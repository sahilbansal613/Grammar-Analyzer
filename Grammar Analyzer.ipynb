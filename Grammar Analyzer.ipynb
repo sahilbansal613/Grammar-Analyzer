{
 "cells": [
  {
   "cell_type": "code",
   "execution_count": 22,
   "id": "67d4c6e7",
   "metadata": {},
   "outputs": [
    {
     "name": "stdout",
     "output_type": "stream",
     "text": [
      "Enter some text to analyze the grammar: My self sahil bansal\n",
      "{\n",
      "    \"text\": \"My self sahil bansal\",\n",
      "    \"is_grammatically_correct\": true\n",
      "}\n"
     ]
    }
   ],
   "source": [
    "import json\n",
    "import spacy\n",
    "\n",
    "def analyze_grammar(text):\n",
    "    \"\"\"\n",
    "    Analyzes the grammar of the input text and returns a JSON object indicating\n",
    "    whether it is grammatically correct. If it is incorrect, the object also\n",
    "    includes the first occurrence of wrongness.\n",
    "    \"\"\"\n",
    "    # Load the English language model for parsing\n",
    "    nlp = spacy.load('en_core_web_sm')\n",
    "\n",
    "    # Parse the input text\n",
    "    doc = nlp(text)\n",
    "\n",
    "    # Check if there are any errors in the document\n",
    "    has_errors = False\n",
    "    wrongness_index = None\n",
    "    wrongness = None\n",
    "    for sent in doc.sents:\n",
    "        for token in sent:\n",
    "            # Check if the token is a noun, verb, adjective, adverb or pronoun\n",
    "            if token.pos_ not in {'NOUN', 'VERB', 'ADJ', 'ADV', 'PRON'}:\n",
    "                continue\n",
    "\n",
    "            # Check if the token has a subject or object dependency\n",
    "            if token.dep_ not in {'nsubj', 'nsubjpass', 'dobj', 'iobj'}:\n",
    "                continue\n",
    "\n",
    "            # Check if the token is capitalized, indicating a proper noun\n",
    "            if token.is_title:\n",
    "                continue\n",
    "\n",
    "            # If any of the above checks fail, there is an error in the grammar\n",
    "            has_errors = True\n",
    "            wrongness_index = token.idx\n",
    "            wrongness = f\"Token '{token.text}' at index {token.idx} is used incorrectly.\"\n",
    "\n",
    "            # Stop checking once the first error is found\n",
    "            break\n",
    "        if has_errors:\n",
    "            break\n",
    "\n",
    "    # Construct a JSON object indicating whether the text is grammatically correct\n",
    "    # and including information about the first occurrence of wrongness (if any)\n",
    "    result = {\n",
    "        'text': text,\n",
    "        'is_grammatically_correct': not has_errors\n",
    "    }\n",
    "    if has_errors:\n",
    "        result['wrongness_index'] = wrongness_index\n",
    "        result['wrongness'] = wrongness\n",
    "\n",
    "    return result\n",
    "\n",
    "\n",
    "# Example usage with user input\n",
    "text = str(input(\"Enter some text to analyze the grammar: \"))\n",
    "result = analyze_grammar(text)\n",
    "print(json.dumps(result, indent=4))\n"
   ]
  },
  {
   "cell_type": "code",
   "execution_count": null,
   "id": "f1b6fd0e",
   "metadata": {},
   "outputs": [],
   "source": []
  }
 ],
 "metadata": {
  "kernelspec": {
   "display_name": "Python 3 (ipykernel)",
   "language": "python",
   "name": "python3"
  },
  "language_info": {
   "codemirror_mode": {
    "name": "ipython",
    "version": 3
   },
   "file_extension": ".py",
   "mimetype": "text/x-python",
   "name": "python",
   "nbconvert_exporter": "python",
   "pygments_lexer": "ipython3",
   "version": "3.9.12"
  }
 },
 "nbformat": 4,
 "nbformat_minor": 5
}
